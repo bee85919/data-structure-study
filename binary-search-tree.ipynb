{
 "cells": [
  {
   "cell_type": "code",
   "execution_count": 12,
   "metadata": {},
   "outputs": [],
   "source": [
    "class Node:\n",
    "    def __init__(self, key):\n",
    "        self.key = key\n",
    "        self.left = None\n",
    "        self.right = None\n",
    "        \n",
    "    \n",
    "def insert(node, key):\n",
    "    if node is None:\n",
    "        return Node(key)\n",
    "    if key < node.key:\n",
    "        node.left = insert(node.left, key)\n",
    "    elif key > node.key:\n",
    "        node.right = insert(node.right, key)\n",
    "    return node\n",
    "    \n",
    "    \n",
    "def inorder(root):\n",
    "    if root is not None:\n",
    "        inorder(root.left)\n",
    "        print(root.key, end=\" \")\n",
    "        inorder(root.right)\n",
    "\n",
    "\n",
    "def preorder(root):\n",
    "    if root:\n",
    "        print(root.key, end=\" \")\n",
    "        preorder(root.left)\n",
    "        preorder(root.right)\n",
    "\n",
    "\n",
    "def postorder(root):\n",
    "    if root:\n",
    "        postorder(root.left)\n",
    "        postorder(root.right)\n",
    "        print(root.key, end=\" \")"
   ]
  },
  {
   "cell_type": "code",
   "execution_count": 13,
   "metadata": {},
   "outputs": [
    {
     "name": "stdout",
     "output_type": "stream",
     "text": [
      "20 30 40 50 60 70 80 \n",
      "50 30 20 40 70 60 80 \n",
      "20 40 30 60 80 70 50 "
     ]
    }
   ],
   "source": [
    "if __name__ == '__main__':\n",
    "\t\"\"\"\n",
    "\tLet us create following BST\n",
    "\t      50\n",
    "\t   /      \\\n",
    "\t  30      70\n",
    "\t /  \\    /  \\\n",
    "\t20  40  60  80\n",
    "\t\"\"\"\n",
    "\troot = None\t\n",
    "\troot = insert(root, 50)\n",
    "\tinsert(root, 30)\n",
    "\tinsert(root, 20)\n",
    "\tinsert(root, 40)\n",
    "\tinsert(root, 70)\n",
    "\tinsert(root, 60)\n",
    "\tinsert(root, 80)\n",
    "\tinorder(root)\n",
    "\tprint(\"\")\n",
    "\tpreorder(root)\n",
    "\tprint(\"\")\n",
    "\tpostorder(root)"
   ]
  },
  {
   "cell_type": "code",
   "execution_count": null,
   "metadata": {},
   "outputs": [],
   "source": []
  }
 ],
 "metadata": {
  "kernelspec": {
   "display_name": "yeardream",
   "language": "python",
   "name": "python3"
  },
  "language_info": {
   "codemirror_mode": {
    "name": "ipython",
    "version": 3
   },
   "file_extension": ".py",
   "mimetype": "text/x-python",
   "name": "python",
   "nbconvert_exporter": "python",
   "pygments_lexer": "ipython3",
   "version": "3.10.9"
  }
 },
 "nbformat": 4,
 "nbformat_minor": 2
}
