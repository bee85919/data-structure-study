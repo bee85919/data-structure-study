{
 "cells": [
  {
   "cell_type": "code",
   "execution_count": 1,
   "metadata": {},
   "outputs": [],
   "source": [
    "class HashTable:\n",
    "    def __init__(self, size=10):\n",
    "        self.size = size\n",
    "        self.table = [None] * size\n",
    "        \n",
    "\n",
    "    def hash_function(self, key):\n",
    "        return key % self.size\n",
    "    \n",
    "\n",
    "    def insert(self, key, value):\n",
    "        index = self.hash_function(key)\n",
    "        if self.table[index] is None:\n",
    "            self.table[index] = [(key, value)]\n",
    "        else:\n",
    "            self.table[index].append((key, value))\n",
    "    \n",
    "\n",
    "    def search_by_index(self, index):\n",
    "        if index < self.size and self.table[index] is not None:\n",
    "            return self.table[index]\n",
    "        return None\n",
    "\n",
    "\n",
    "    def delete(self, key):\n",
    "        index = self.hash_function(key)\n",
    "        if self.table[index] is not None:\n",
    "            for i, pair in enumerate(self.table[index]):\n",
    "                if pair[0] == key:\n",
    "                    del self.table[index][i]\n",
    "                    return True\n",
    "        return False"
   ]
  },
  {
   "cell_type": "code",
   "execution_count": 2,
   "metadata": {},
   "outputs": [
    {
     "name": "stdout",
     "output_type": "stream",
     "text": [
      "[(11, 'Apple')]\n",
      "[(22, 'Banana')]\n",
      "[(33, 'Orange')]\n"
     ]
    }
   ],
   "source": [
    "hash_table = HashTable()\n",
    "\n",
    "\n",
    "hash_table.insert(11, 'Apple')\n",
    "hash_table.insert(22, 'Banana')\n",
    "hash_table.insert(33, 'Orange')\n",
    "\n",
    "\n",
    "print(hash_table.search_by_index(1))\n",
    "print(hash_table.search_by_index(2))\n",
    "print(hash_table.search_by_index(3))"
   ]
  },
  {
   "cell_type": "code",
   "execution_count": null,
   "metadata": {},
   "outputs": [],
   "source": []
  }
 ],
 "metadata": {
  "kernelspec": {
   "display_name": "yeardream",
   "language": "python",
   "name": "python3"
  },
  "language_info": {
   "codemirror_mode": {
    "name": "ipython",
    "version": 3
   },
   "file_extension": ".py",
   "mimetype": "text/x-python",
   "name": "python",
   "nbconvert_exporter": "python",
   "pygments_lexer": "ipython3",
   "version": "3.10.9"
  }
 },
 "nbformat": 4,
 "nbformat_minor": 2
}
